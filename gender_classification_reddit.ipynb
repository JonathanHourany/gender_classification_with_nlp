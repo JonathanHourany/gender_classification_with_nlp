{
 "cells": [
  {
   "cell_type": "markdown",
   "metadata": {
    "slideshow": {
     "slide_type": "slide"
    }
   },
   "source": [
    "# Gender Classification on Reddit\n",
    "\\__author__ = Jonathan Hourany\n",
    "\n",
    "\\__email__  = Jon.Hourany@gmail.com\n",
    "\n",
    "<div style=\"text-align:left\">\n",
    "    <img src='images/male-clipart.png' style=\"width: 80px; float:left\">\n",
    "</div>\n",
    "<div style=\"text-align:right\">\n",
    "    <img src='images/female-clipart.png' style=\"width: 100px; float:right\">\n",
    "</div>\n",
    "<div style=\"text-align:middle\">\n",
    "    <img src='images/snoo.png' style=\"width: 200px; float:center\">\n",
    "</div>"
   ]
  },
  {
   "cell_type": "markdown",
   "metadata": {
    "slideshow": {
     "slide_type": "fragment"
    }
   },
   "source": [
    "### Why this project?\n",
    "* Data used to profile\n",
    "* Psychological observational studies\n",
    "* How anonymous is anonymous?"
   ]
  },
  {
   "cell_type": "markdown",
   "metadata": {
    "slideshow": {
     "slide_type": "subslide"
    }
   },
   "source": [
    "# The Data\n",
    "* Gender tagged data not available in the wild\n",
    "* Had to scrape from volunteered data"
   ]
  },
  {
   "cell_type": "markdown",
   "metadata": {
    "slideshow": {
     "slide_type": "subslide"
    }
   },
   "source": [
    "!['progresspics'](images/progresspics.png)"
   ]
  },
  {
   "cell_type": "markdown",
   "metadata": {
    "slideshow": {
     "slide_type": "slide"
    }
   },
   "source": [
    "### The Python Reddit API Wrapper\n",
    "* Python package that allows for simple access to reddit's API\n",
    "* get_subreddit, get_hot(), get_redditor()\n",
    "* __Handled Requests Limit__"
   ]
  },
  {
   "cell_type": "markdown",
   "metadata": {
    "slideshow": {
     "slide_type": "subslide"
    }
   },
   "source": [
    "### Redditor Class\n"
   ]
  },
  {
   "cell_type": "code",
   "execution_count": 1,
   "metadata": {
    "collapsed": false,
    "slideshow": {
     "slide_type": "fragment"
    }
   },
   "outputs": [],
   "source": [
    "import re\n",
    "import praw\n",
    "import pandas as pd\n",
    "from string import punctuation\n",
    "\n",
    "\n",
    "class Redditor:\n",
    "    def __init__(self, username, sex, age=None, comments={}, subreddits=set()):\n",
    "        self.username = username\n",
    "        self.sex = sex\n",
    "        self.age = age\n",
    "        self.comments = comments\n",
    "        self.subreddits = subreddits\n",
    "\n",
    "    @classmethod\n",
    "    def from_post_title(cls, submission_obj, reddit_session, comment_limit=200):\n",
    "        '''Automatically contruct a redditor from a post link\n",
    "\n",
    "        Parameters\n",
    "        -----------\n",
    "        cls             A class object\n",
    "        submission_obj: PRAW Submission Object\n",
    "        reddit_session: Instance of a PRAW Reddit Session \n",
    "\n",
    "        Returns\n",
    "        -------\n",
    "        redditor:   Instance of Redditor\n",
    "        '''\n",
    "        sex, age, *_ = submission_obj.title.lower().split('/')\n",
    "        age = int(age)\n",
    "        username = submission_obj.author\n",
    "        redditor = cls(username, sex, age)\n",
    "        try:\n",
    "            r = reddit_session.get_redditor(username)\n",
    "        except:\n",
    "            pass\n",
    "        comments_obj = r.get_comments(limit=comment_limit)\n",
    "        redditor.subreddits, redditor.comments = redditor.process_comment(comments_obj)\n",
    "        return redditor\n",
    "\n",
    "    @classmethod\n",
    "    def from_flair(cls, submission_obj, reddit_session):\n",
    "        pass\n",
    "\n",
    "    @staticmethod\n",
    "    def process_comment(comments_obj):\n",
    "        '''Parses a comments_obj for relavent data\n",
    "\n",
    "        Parameters\n",
    "        -----------\n",
    "        comments_obj: PRAW Comment Object\n",
    "\n",
    "        Returns\n",
    "        -------\n",
    "        subreddits: list,\n",
    "            A list of strings containing subreddits comments were made in\n",
    "\n",
    "        comments: tuple, (comment_id, string)\n",
    "            A tuple of comments and their reddit designated ids\n",
    "        '''\n",
    "        comments = []\n",
    "        subreddits = []\n",
    "        for comment in comments_obj:\n",
    "            subreddits.append(comment.subreddit.display_name)\n",
    "            comments.append((comment.fullname, comment.body.strip()))\n",
    "        return subreddits, comments\n",
    "\n",
    "    @staticmethod\n",
    "    def process_text(self, comment):\n",
    "        comment = self._clean_text(comment)\n",
    "        return comment.lower()\n",
    "\n",
    "    @staticmethod\n",
    "    def _clean_text(self, text, pattern):\n",
    "        allowable = (':', ')', '(')           # Punctuation marks used in emoticons\n",
    "        punctuation  = '[' + ''.join([ch for ch in punctuation if ch not in allowable]) + ']'\n",
    "        emoticon_pat = '(?<!\\:)\\)|(?<!\\:)\\('  # Don't pick up common emoticons\n",
    "        special_pat  = '[\\n]'\n",
    "        markup_link  = '\\[\\w+\\]|\\(http.*\\)'   # Markup syntax for hyperlinks\n",
    "        pattern = \"|\".join((emoticon_pat, markup_link, special_pat, punctuation))\n",
    "        text = re.sub(pattern, '', text)\n",
    "        return text.strip()\n",
    "\n",
    "    @property\n",
    "    def username(self):\n",
    "        '''Getter for username attribute'''\n",
    "        return self._username\n",
    "\n",
    "    @username.setter\n",
    "    def username(self, username):\n",
    "        '''Setter for username attribute. \n",
    "\n",
    "        Parameters\n",
    "        ----------\n",
    "        username: str\n",
    "\n",
    "        Exceptions\n",
    "        -----------\n",
    "        Raises ValueError if parameters do not match reddit's restriction on usernames\n",
    "        '''\n",
    "        if not re.search('[a-zA-Z0-9\\_\\-]', str(username)):\n",
    "            raise ValueError('{username} is not a valid reddit username'.format(username))\n",
    "        self._username = str(username).lower()\n",
    "\n",
    "    @property\n",
    "    def sex(self):\n",
    "        '''Getter for sex attribute'''\n",
    "        return self._sex\n",
    "\n",
    "    @sex.setter\n",
    "    def sex(self, sex):\n",
    "        '''Setter for sex attribute\n",
    "\n",
    "        Parameters\n",
    "        ----------\n",
    "        sex: str\n",
    "\n",
    "        Exceptions\n",
    "        -----------\n",
    "        Raises ValueError if parameters are not m or f\n",
    "        '''\n",
    "        sex = sex.lower()\n",
    "        if sex not in ('m', 'f'):\n",
    "            raise ValueError(\"Sex can only be 'm' or 'f'\")\n",
    "        gender = {'m': 0, 'f': 1}\n",
    "        self._sex = gender[sex]\n",
    "\n",
    "    @property\n",
    "    def subreddits(self):\n",
    "        '''Getter for subbreddits attribute'''\n",
    "        return self._subreddits\n",
    "\n",
    "    @subreddits.setter\n",
    "    def subreddits(self, subreddits):\n",
    "        '''Setter for subreddits attribute. Stores values as set()\n",
    "\n",
    "        Parameters\n",
    "        ----------\n",
    "        subreddits: list\n",
    "        '''\n",
    "        self._subreddits = set(subreddit.lower() for subreddit in subreddits)\n",
    "\n",
    "    @property\n",
    "    def comments(self):\n",
    "        '''Getter for comments attribute'''\n",
    "        return self._comments\n",
    "\n",
    "    @comments.setter\n",
    "    def comments(self, comments):\n",
    "        self._comments = dict(comments)\n",
    "\n",
    "    def __str__(self):\n",
    "        return self.username\n",
    "\n",
    "    def __len__(self):\n",
    "        return len(self.comments)"
   ]
  },
  {
   "cell_type": "markdown",
   "metadata": {
    "slideshow": {
     "slide_type": "subslide"
    }
   },
   "source": [
    "### Main()"
   ]
  },
  {
   "cell_type": "code",
   "execution_count": 2,
   "metadata": {
    "collapsed": false,
    "scrolled": true,
    "slideshow": {
     "slide_type": "subslide"
    }
   },
   "outputs": [
    {
     "name": "stdout",
     "output_type": "stream",
     "text": [
      "Version 3.4.0 of praw is outdated. Version 3.5.0 was released Tuesday May 10, 2016.\n",
      "\n",
      "---- Reddit Mining Started ----\n",
      "\n",
      "- Mining subreddits for posts\n",
      " ~ Mining Subreddit: progresspics\n",
      "  ~ Processing User -- # 0: \n",
      "  ~ Processing User -- # 1: \n",
      "  ~ Processing User -- # 2: \n"
     ]
    },
    {
     "name": "stderr",
     "output_type": "stream",
     "text": [
      "/home/protonova/anaconda2/envs/py3_nlp/lib/python3.5/site-packages/ipykernel/__main__.py:65: ResourceWarning: unclosed <ssl.SSLSocket fd=49, family=AddressFamily.AF_INET, type=SocketKind.SOCK_STREAM, proto=6, laddr=('10.3.16.107', 59920), raddr=('198.41.209.143', 443)>\n"
     ]
    },
    {
     "name": "stdout",
     "output_type": "stream",
     "text": [
      "- Parsing data...\n",
      "- Writting data to CSV file\n"
     ]
    }
   ],
   "source": [
    "def main():\n",
    "    # Messages to report changes in major phases\n",
    "    start_msg    = '\\n---- Reddit Mining Started ----\\n'\n",
    "    mining_msg   = '- Mining subreddits for posts'\n",
    "    parse_msg    = '- Parsing data...'\n",
    "    writeout_msg = '- Writting data to CSV file'\n",
    "    user_agent   = 'NLP Webscrapper 0.4'\n",
    "\n",
    "    # DataFrame columns\n",
    "    df_user_columns = ['uid', 'Username', 'Sex', 'Age']\n",
    "    df_comment_columns = ['uid', 'Comment_id', 'Comment']\n",
    "    df_subreddits_columns = ['uid', 'Subreddit']\n",
    "\n",
    "    # List of user features to map to dict\n",
    "    user_features = ['Username', 'Sex', 'Age']\n",
    "\n",
    "    # List of subreddits to data mine\n",
    "    mineable_subreddits = ['progresspics']\n",
    "\n",
    "    # Location of database tables\n",
    "    users_tbl_path = 'test/users_df.csv'\n",
    "    comments_tbl_path = 'test/comments_df.csv'\n",
    "    subreddits_tbl_path = 'test/subreddits_df.csv'\n",
    "\n",
    "    redditors = []\n",
    "    db_exists = False\n",
    "    count = 0   # Tracks count of posts processed. Purely for print outs.\n",
    "\n",
    "    try:\n",
    "        # Assume these tables already exsist and load them.\n",
    "        users_df = pd.read_csv(users_tbl_path)\n",
    "        comments_df = pd.read_csv(comments_tbl_path)\n",
    "        subreddits_df = pd.read_csv(subreddits_tbl_path)\n",
    "        user_id = users_df['uid'].max()\n",
    "        db_exists = True\n",
    "        # We don't want to get users we've already seen\n",
    "        collected_users = set(users_df['Username'])\n",
    "    except IOError:\n",
    "        # Raised if the tables don't exsist, so start the UID at somewhere\n",
    "        user_id = 100\n",
    "        collected_users = set()\n",
    "\n",
    "    # Init and connect with Reddit API, start program\n",
    "    reddit = praw.Reddit(user_agent=user_agent)\n",
    "    print(start_msg)\n",
    "    print(mining_msg)\n",
    "\n",
    "    for subreddit in mineable_subreddits:\n",
    "        print(' ~ Mining Subreddit: {}'.format(subreddit))\n",
    "        posts = reddit.get_subreddit(subreddit)\n",
    "        for submission in posts.get_hot(limit=400):\n",
    "            try:\n",
    "                redditor = Redditor.from_post_title(submission, reddit, comment_limit=200)\n",
    "                if redditor.username not in collected_users:\n",
    "                    redditors.append(redditor)\n",
    "            except (AttributeError, ValueError):\n",
    "                # Value errors raised by the Redditor Class going to be because of\n",
    "                #  links that don't have the correct formatting (e.g. sticky posts)\n",
    "                #  or when the user has made no comments. When these occur,\n",
    "                #  its fine to just drop the submission\n",
    "                pass\n",
    "            except:\n",
    "                # For all other exceptions, break out of the loop and attempt\n",
    "                #  to save what data has ben collected\n",
    "                break\n",
    "            print('  ~ Processing User -- # {0}: '.format(count))\n",
    "            count += 1\n",
    "\n",
    "    # When Mining is complete, save data to appropriate files\n",
    "    print(parse_msg)\n",
    "\n",
    "    # Data is saved in Dict's and passed to pandas DataFrame. Keys\n",
    "    # represent column headers in the DataFrame/CSV file\n",
    "    user_dict = {'uid': []}\n",
    "    comments_dict = {'uid': [], 'Comment_id': [], 'Comment': []}\n",
    "    subreddits_dict = {'uid': [], 'Subreddit': []}\n",
    "    for redditor in redditors:\n",
    "        user_id += 1\n",
    "        comments_dict['Comment_id'].extend(list(redditor.comments.keys()))\n",
    "        comments_dict['Comment'].extend(list(redditor.comments.values()))\n",
    "        comments_dict['uid'].extend([user_id] * len(redditor.comments))\n",
    "        user_dict['uid'].append(user_id)\n",
    "        subreddits_dict['uid'].extend([user_id] * len(redditor.subreddits))\n",
    "        subreddits_dict['Subreddit'].extend(list(redditor.subreddits))\n",
    "        for feature in user_features:\n",
    "            user_dict.setdefault(feature, []).append(redditor.__getattribute__(feature.lower()))\n",
    "\n",
    "    print(writeout_msg)\n",
    "\n",
    "    if not db_exists:\n",
    "        user_tbl = pd.DataFrame(user_dict, columns=df_user_columns)\n",
    "        comments_tbl = pd.DataFrame(comments_dict, columns=df_comment_columns)\n",
    "        subreddits_tbl = pd.DataFrame(subreddits_dict, columns=df_subreddits_columns)\n",
    "    else:\n",
    "        user_tbl = users_df.append(pd.DataFrame(user_dict,\n",
    "                                   columns=df_user_columns))\n",
    "        comments_tbl = comments_df.append(pd.DataFrame(comments_dict,\n",
    "                                          columns=df_comment_columns))\n",
    "        subreddits_tbl = subreddits_df.append(pd.DataFrame(subreddits_dict,\n",
    "                                              columns=df_subreddits_columns))\n",
    "\n",
    "    user_tbl.to_csv(users_tbl_path, index=False)\n",
    "    comments_tbl.to_csv(comments_tbl_path, index=False)\n",
    "    subreddits_tbl.to_csv(subreddits_tbl_path, index=False)\n",
    "\n",
    "if __name__ == '__main__':\n",
    "    main()\n"
   ]
  },
  {
   "cell_type": "code",
   "execution_count": 2,
   "metadata": {
    "collapsed": false,
    "slideshow": {
     "slide_type": "skip"
    }
   },
   "outputs": [
    {
     "name": "stderr",
     "output_type": "stream",
     "text": [
      "/home/protonova/anaconda2/envs/py3_nlp/lib/python3.5/site-packages/nltk/decorators.py:59: DeprecationWarning: inspect.getargspec() is deprecated, use inspect.signature() instead\n",
      "  regargs, varargs, varkwargs, defaults = inspect.getargspec(func)\n",
      "/home/protonova/anaconda2/envs/py3_nlp/lib/python3.5/site-packages/ipykernel/pylab/config.py:66: DeprecationWarning: metadata {'config': True} was set from the constructor.  Metadata should be set using the .tag() method, e.g., Int().tag(key1='value1', key2='value2')\n",
      "  inline backend.\"\"\"\n",
      "/home/protonova/anaconda2/envs/py3_nlp/lib/python3.5/site-packages/ipykernel/pylab/config.py:71: DeprecationWarning: metadata {'config': True} was set from the constructor.  Metadata should be set using the .tag() method, e.g., Int().tag(key1='value1', key2='value2')\n",
      "  'retina', 'jpeg', 'svg', 'pdf'.\"\"\")\n",
      "/home/protonova/anaconda2/envs/py3_nlp/lib/python3.5/site-packages/ipykernel/pylab/config.py:85: DeprecationWarning: metadata {'config': True} was set from the constructor.  Metadata should be set using the .tag() method, e.g., Int().tag(key1='value1', key2='value2')\n",
      "  use `figure_formats` instead)\"\"\")\n",
      "/home/protonova/anaconda2/envs/py3_nlp/lib/python3.5/site-packages/ipykernel/pylab/config.py:95: DeprecationWarning: metadata {'config': True} was set from the constructor.  Metadata should be set using the .tag() method, e.g., Int().tag(key1='value1', key2='value2')\n",
      "  \"\"\"\n",
      "/home/protonova/anaconda2/envs/py3_nlp/lib/python3.5/site-packages/ipykernel/pylab/config.py:114: DeprecationWarning: metadata {'config': True} was set from the constructor.  Metadata should be set using the .tag() method, e.g., Int().tag(key1='value1', key2='value2')\n",
      "  \"\"\")\n",
      "/home/protonova/anaconda2/envs/py3_nlp/lib/python3.5/site-packages/ipykernel/pylab/config.py:44: DeprecationWarning: InlineBackend._config_changed is deprecated: use @observe and @unobserve instead.\n",
      "  def _config_changed(self, name, old, new):\n",
      "/home/protonova/anaconda2/envs/py3_nlp/lib/python3.5/site-packages/traitlets/traitlets.py:770: DeprecationWarning: A parent of InlineBackend._config_changed has adopted the new @observe(change) API\n",
      "  clsname, change_or_name), DeprecationWarning)\n",
      "/home/protonova/anaconda2/envs/py3_nlp/lib/python3.5/site-packages/IPython/core/formatters.py:98: DeprecationWarning: DisplayFormatter._formatters_default is deprecated: use @default decorator instead.\n",
      "  def _formatters_default(self):\n",
      "/home/protonova/anaconda2/envs/py3_nlp/lib/python3.5/site-packages/IPython/core/formatters.py:677: DeprecationWarning: PlainTextFormatter._deferred_printers_default is deprecated: use @default decorator instead.\n",
      "  def _deferred_printers_default(self):\n",
      "/home/protonova/anaconda2/envs/py3_nlp/lib/python3.5/site-packages/IPython/core/formatters.py:669: DeprecationWarning: PlainTextFormatter._singleton_printers_default is deprecated: use @default decorator instead.\n",
      "  def _singleton_printers_default(self):\n",
      "/home/protonova/anaconda2/envs/py3_nlp/lib/python3.5/site-packages/IPython/core/formatters.py:672: DeprecationWarning: PlainTextFormatter._type_printers_default is deprecated: use @default decorator instead.\n",
      "  def _type_printers_default(self):\n",
      "/home/protonova/anaconda2/envs/py3_nlp/lib/python3.5/site-packages/IPython/core/formatters.py:672: DeprecationWarning: PlainTextFormatter._type_printers_default is deprecated: use @default decorator instead.\n",
      "  def _type_printers_default(self):\n",
      "/home/protonova/anaconda2/envs/py3_nlp/lib/python3.5/site-packages/IPython/core/formatters.py:677: DeprecationWarning: PlainTextFormatter._deferred_printers_default is deprecated: use @default decorator instead.\n",
      "  def _deferred_printers_default(self):\n"
     ]
    }
   ],
   "source": [
    "import numpy as np\n",
    "import pandas as pd\n",
    "import seaborn as sns\n",
    "import matplotlib.pyplot as plt\n",
    "from cleaner import clean_text\n",
    "from textblob import TextBlob\n",
    "from nltk.corpus import stopwords\n",
    "from sklearn import cross_validation\n",
    "from sklearn.pipeline import Pipeline\n",
    "from sklearn.metrics import confusion_matrix\n",
    "from sklearn.grid_search import GridSearchCV\n",
    "from sklearn.linear_model import SGDClassifier\n",
    "from sklearn.naive_bayes import MultinomialNB\n",
    "from sklearn.feature_extraction.text import CountVectorizer\n",
    "from sklearn.feature_extraction.text import TfidfTransformer\n",
    "\n",
    "%matplotlib inline"
   ]
  },
  {
   "cell_type": "code",
   "execution_count": 3,
   "metadata": {
    "collapsed": false
   },
   "outputs": [],
   "source": [
    "def plot_confusion_matrix(cm, target_names, title='Confusion matrix', cmap=plt.cm.Blues):\n",
    "    plt.imshow(cm, interpolation='nearest', cmap=cmap)\n",
    "    plt.title(title)\n",
    "    plt.colorbar()\n",
    "    tick_marks = np.arange(len(target_names))\n",
    "    plt.xticks(tick_marks, target_names, rotation=45)\n",
    "    plt.yticks(tick_marks, target_names)\n",
    "    plt.tight_layout()\n",
    "    plt.ylabel('True label')\n",
    "    plt.xlabel('Predicted label')"
   ]
  },
  {
   "cell_type": "code",
   "execution_count": 26,
   "metadata": {
    "collapsed": true,
    "slideshow": {
     "slide_type": "skip"
    }
   },
   "outputs": [],
   "source": [
    "users_tbl_path = 'test/users_df.csv'\n",
    "comments_tbl_path = 'test/cleaned_comments_df_new_stop.csv'\n",
    "subreddits_tbl_path = 'test/subreddits_df.csv'"
   ]
  },
  {
   "cell_type": "code",
   "execution_count": 27,
   "metadata": {
    "collapsed": true,
    "slideshow": {
     "slide_type": "skip"
    }
   },
   "outputs": [],
   "source": [
    "user_df = pd.read_csv(users_tbl_path)\n",
    "comments_df = pd.read_csv(comments_tbl_path)"
   ]
  },
  {
   "cell_type": "code",
   "execution_count": 28,
   "metadata": {
    "collapsed": false,
    "slideshow": {
     "slide_type": "slide"
    }
   },
   "outputs": [],
   "source": [
    "df = pd.merge(user_df, comments_df, right_on='uid', left_on='uid')"
   ]
  },
  {
   "cell_type": "code",
   "execution_count": 29,
   "metadata": {
    "collapsed": false,
    "scrolled": true,
    "slideshow": {
     "slide_type": "slide"
    }
   },
   "outputs": [
    {
     "data": {
      "text/html": [
       "<div>\n",
       "<table border=\"1\" class=\"dataframe\">\n",
       "  <thead>\n",
       "    <tr style=\"text-align: right;\">\n",
       "      <th></th>\n",
       "      <th>Age</th>\n",
       "      <th>Sex</th>\n",
       "      <th>Username</th>\n",
       "      <th>uid</th>\n",
       "      <th>Comment</th>\n",
       "      <th>Comment_id</th>\n",
       "    </tr>\n",
       "  </thead>\n",
       "  <tbody>\n",
       "    <tr>\n",
       "      <th>0</th>\n",
       "      <td>22</td>\n",
       "      <td>1</td>\n",
       "      <td>kristenly</td>\n",
       "      <td>101</td>\n",
       "      <td>straight woman definitely find attractive</td>\n",
       "      <td>t1_czzdmn8</td>\n",
       "    </tr>\n",
       "    <tr>\n",
       "      <th>1</th>\n",
       "      <td>22</td>\n",
       "      <td>1</td>\n",
       "      <td>kristenly</td>\n",
       "      <td>101</td>\n",
       "      <td>know got either work work coffee shop somethin...</td>\n",
       "      <td>t1_cq35l2q</td>\n",
       "    </tr>\n",
       "    <tr>\n",
       "      <th>2</th>\n",
       "      <td>22</td>\n",
       "      <td>1</td>\n",
       "      <td>kristenly</td>\n",
       "      <td>101</td>\n",
       "      <td>awesome grandmother struggled weight whole lif...</td>\n",
       "      <td>t1_d1w919g</td>\n",
       "    </tr>\n",
       "    <tr>\n",
       "      <th>3</th>\n",
       "      <td>22</td>\n",
       "      <td>1</td>\n",
       "      <td>kristenly</td>\n",
       "      <td>101</td>\n",
       "      <td>pm ed</td>\n",
       "      <td>t1_cqtzv8a</td>\n",
       "    </tr>\n",
       "    <tr>\n",
       "      <th>4</th>\n",
       "      <td>22</td>\n",
       "      <td>1</td>\n",
       "      <td>kristenly</td>\n",
       "      <td>101</td>\n",
       "      <td>precisely feel gone insane days</td>\n",
       "      <td>t1_d1wlyfs</td>\n",
       "    </tr>\n",
       "    <tr>\n",
       "      <th>5</th>\n",
       "      <td>22</td>\n",
       "      <td>1</td>\n",
       "      <td>kristenly</td>\n",
       "      <td>101</td>\n",
       "      <td>undertoes divine</td>\n",
       "      <td>t1_cxax2b9</td>\n",
       "    </tr>\n",
       "    <tr>\n",
       "      <th>6</th>\n",
       "      <td>22</td>\n",
       "      <td>1</td>\n",
       "      <td>kristenly</td>\n",
       "      <td>101</td>\n",
       "      <td>pm guys reddit rules witch hunting</td>\n",
       "      <td>t1_cqu3p28</td>\n",
       "    </tr>\n",
       "    <tr>\n",
       "      <th>7</th>\n",
       "      <td>22</td>\n",
       "      <td>1</td>\n",
       "      <td>kristenly</td>\n",
       "      <td>101</td>\n",
       "      <td>know article recent 2 months prompted little b...</td>\n",
       "      <td>t1_coxwwlb</td>\n",
       "    </tr>\n",
       "    <tr>\n",
       "      <th>8</th>\n",
       "      <td>22</td>\n",
       "      <td>1</td>\n",
       "      <td>kristenly</td>\n",
       "      <td>101</td>\n",
       "      <td>presidential joke seems pretty accurate well e...</td>\n",
       "      <td>t1_cytnblu</td>\n",
       "    </tr>\n",
       "    <tr>\n",
       "      <th>9</th>\n",
       "      <td>22</td>\n",
       "      <td>1</td>\n",
       "      <td>kristenly</td>\n",
       "      <td>101</td>\n",
       "      <td>thank much</td>\n",
       "      <td>t1_d2tvypv</td>\n",
       "    </tr>\n",
       "    <tr>\n",
       "      <th>10</th>\n",
       "      <td>22</td>\n",
       "      <td>1</td>\n",
       "      <td>kristenly</td>\n",
       "      <td>101</td>\n",
       "      <td>ugh hate type girl stop playing games could ne...</td>\n",
       "      <td>t1_cq2jikp</td>\n",
       "    </tr>\n",
       "    <tr>\n",
       "      <th>11</th>\n",
       "      <td>22</td>\n",
       "      <td>1</td>\n",
       "      <td>kristenly</td>\n",
       "      <td>101</td>\n",
       "      <td>wow yeah thanks lot definitely contact never h...</td>\n",
       "      <td>t1_cqtzeya</td>\n",
       "    </tr>\n",
       "    <tr>\n",
       "      <th>12</th>\n",
       "      <td>22</td>\n",
       "      <td>1</td>\n",
       "      <td>kristenly</td>\n",
       "      <td>101</td>\n",
       "      <td>op clever many people itt including awesome co...</td>\n",
       "      <td>t1_cqbh9rf</td>\n",
       "    </tr>\n",
       "    <tr>\n",
       "      <th>13</th>\n",
       "      <td>22</td>\n",
       "      <td>1</td>\n",
       "      <td>kristenly</td>\n",
       "      <td>101</td>\n",
       "      <td>definitely trying need recipes greens</td>\n",
       "      <td>t1_d20jqnk</td>\n",
       "    </tr>\n",
       "    <tr>\n",
       "      <th>14</th>\n",
       "      <td>22</td>\n",
       "      <td>1</td>\n",
       "      <td>kristenly</td>\n",
       "      <td>101</td>\n",
       "      <td>lol dick</td>\n",
       "      <td>t1_cxcdqbw</td>\n",
       "    </tr>\n",
       "    <tr>\n",
       "      <th>15</th>\n",
       "      <td>22</td>\n",
       "      <td>1</td>\n",
       "      <td>kristenly</td>\n",
       "      <td>101</td>\n",
       "      <td>stopping eviction trying</td>\n",
       "      <td>t1_cqu6myo</td>\n",
       "    </tr>\n",
       "    <tr>\n",
       "      <th>16</th>\n",
       "      <td>22</td>\n",
       "      <td>1</td>\n",
       "      <td>kristenly</td>\n",
       "      <td>101</td>\n",
       "      <td>NaN</td>\n",
       "      <td>t1_cqin2lj</td>\n",
       "    </tr>\n",
       "    <tr>\n",
       "      <th>17</th>\n",
       "      <td>22</td>\n",
       "      <td>1</td>\n",
       "      <td>kristenly</td>\n",
       "      <td>101</td>\n",
       "      <td>winking</td>\n",
       "      <td>t1_cpq7oz9</td>\n",
       "    </tr>\n",
       "    <tr>\n",
       "      <th>18</th>\n",
       "      <td>22</td>\n",
       "      <td>1</td>\n",
       "      <td>kristenly</td>\n",
       "      <td>101</td>\n",
       "      <td>cuteness overload use three sit still look pho...</td>\n",
       "      <td>t1_d1w9fqo</td>\n",
       "    </tr>\n",
       "    <tr>\n",
       "      <th>19</th>\n",
       "      <td>22</td>\n",
       "      <td>1</td>\n",
       "      <td>kristenly</td>\n",
       "      <td>101</td>\n",
       "      <td>live parents horse race overwhelmingly upset f...</td>\n",
       "      <td>t1_cqu647s</td>\n",
       "    </tr>\n",
       "    <tr>\n",
       "      <th>20</th>\n",
       "      <td>22</td>\n",
       "      <td>1</td>\n",
       "      <td>kristenly</td>\n",
       "      <td>101</td>\n",
       "      <td>think default 2 believe revised recent recipe ...</td>\n",
       "      <td>t1_cxay98k</td>\n",
       "    </tr>\n",
       "    <tr>\n",
       "      <th>21</th>\n",
       "      <td>22</td>\n",
       "      <td>1</td>\n",
       "      <td>kristenly</td>\n",
       "      <td>101</td>\n",
       "      <td>issue build pillows side bed bed feel big also...</td>\n",
       "      <td>t1_d1jo1mj</td>\n",
       "    </tr>\n",
       "    <tr>\n",
       "      <th>22</th>\n",
       "      <td>22</td>\n",
       "      <td>1</td>\n",
       "      <td>kristenly</td>\n",
       "      <td>101</td>\n",
       "      <td>glad think way visit someone profile though he...</td>\n",
       "      <td>t1_d13h5dq</td>\n",
       "    </tr>\n",
       "    <tr>\n",
       "      <th>23</th>\n",
       "      <td>22</td>\n",
       "      <td>1</td>\n",
       "      <td>kristenly</td>\n",
       "      <td>101</td>\n",
       "      <td>something still struggle terrible nc thing 5 d...</td>\n",
       "      <td>t1_d0syt56</td>\n",
       "    </tr>\n",
       "    <tr>\n",
       "      <th>24</th>\n",
       "      <td>22</td>\n",
       "      <td>1</td>\n",
       "      <td>kristenly</td>\n",
       "      <td>101</td>\n",
       "      <td>laughed hard video</td>\n",
       "      <td>t1_d274580</td>\n",
       "    </tr>\n",
       "    <tr>\n",
       "      <th>25</th>\n",
       "      <td>22</td>\n",
       "      <td>1</td>\n",
       "      <td>kristenly</td>\n",
       "      <td>101</td>\n",
       "      <td>guess barista story coworkers kind awe disgust...</td>\n",
       "      <td>t1_cxb0tbo</td>\n",
       "    </tr>\n",
       "    <tr>\n",
       "      <th>26</th>\n",
       "      <td>22</td>\n",
       "      <td>1</td>\n",
       "      <td>kristenly</td>\n",
       "      <td>101</td>\n",
       "      <td>wow thanks look shitty outside outdated</td>\n",
       "      <td>t1_cqu8k8i</td>\n",
       "    </tr>\n",
       "    <tr>\n",
       "      <th>27</th>\n",
       "      <td>22</td>\n",
       "      <td>1</td>\n",
       "      <td>kristenly</td>\n",
       "      <td>101</td>\n",
       "      <td>adore cleanser using several months works well</td>\n",
       "      <td>t1_d1jxpsn</td>\n",
       "    </tr>\n",
       "    <tr>\n",
       "      <th>28</th>\n",
       "      <td>22</td>\n",
       "      <td>1</td>\n",
       "      <td>kristenly</td>\n",
       "      <td>101</td>\n",
       "      <td>must joy work</td>\n",
       "      <td>t1_czcr17a</td>\n",
       "    </tr>\n",
       "    <tr>\n",
       "      <th>29</th>\n",
       "      <td>22</td>\n",
       "      <td>1</td>\n",
       "      <td>kristenly</td>\n",
       "      <td>101</td>\n",
       "      <td>looks unamused yet still adorable</td>\n",
       "      <td>t1_d276fra</td>\n",
       "    </tr>\n",
       "    <tr>\n",
       "      <th>...</th>\n",
       "      <td>...</td>\n",
       "      <td>...</td>\n",
       "      <td>...</td>\n",
       "      <td>...</td>\n",
       "      <td>...</td>\n",
       "      <td>...</td>\n",
       "    </tr>\n",
       "    <tr>\n",
       "      <th>66708</th>\n",
       "      <td>26</td>\n",
       "      <td>0</td>\n",
       "      <td>galp_nation</td>\n",
       "      <td>711</td>\n",
       "      <td>well attempting follow comic covers half face ...</td>\n",
       "      <td>t1_d0tmacf</td>\n",
       "    </tr>\n",
       "    <tr>\n",
       "      <th>66709</th>\n",
       "      <td>26</td>\n",
       "      <td>0</td>\n",
       "      <td>galp_nation</td>\n",
       "      <td>711</td>\n",
       "      <td>said mainly core strength entirely core strength</td>\n",
       "      <td>t1_cz80ts0</td>\n",
       "    </tr>\n",
       "    <tr>\n",
       "      <th>66710</th>\n",
       "      <td>26</td>\n",
       "      <td>0</td>\n",
       "      <td>galp_nation</td>\n",
       "      <td>711</td>\n",
       "      <td>12 digit passcode edit 20 digits</td>\n",
       "      <td>t1_d16syyj</td>\n",
       "    </tr>\n",
       "    <tr>\n",
       "      <th>66711</th>\n",
       "      <td>26</td>\n",
       "      <td>0</td>\n",
       "      <td>galp_nation</td>\n",
       "      <td>711</td>\n",
       "      <td>lauren problem somewhat strange accent begin b...</td>\n",
       "      <td>t1_cx1hgxy</td>\n",
       "    </tr>\n",
       "    <tr>\n",
       "      <th>66712</th>\n",
       "      <td>26</td>\n",
       "      <td>0</td>\n",
       "      <td>galp_nation</td>\n",
       "      <td>711</td>\n",
       "      <td>annoying ice bucket challenge last year</td>\n",
       "      <td>t1_cxrluwv</td>\n",
       "    </tr>\n",
       "    <tr>\n",
       "      <th>66713</th>\n",
       "      <td>26</td>\n",
       "      <td>0</td>\n",
       "      <td>galp_nation</td>\n",
       "      <td>711</td>\n",
       "      <td>never bad experience shrooms acid minus slight...</td>\n",
       "      <td>t1_d0rax09</td>\n",
       "    </tr>\n",
       "    <tr>\n",
       "      <th>66714</th>\n",
       "      <td>26</td>\n",
       "      <td>0</td>\n",
       "      <td>galp_nation</td>\n",
       "      <td>711</td>\n",
       "      <td>101st airborne formed round perimeter using 50...</td>\n",
       "      <td>t1_d2qw1xh</td>\n",
       "    </tr>\n",
       "    <tr>\n",
       "      <th>66715</th>\n",
       "      <td>26</td>\n",
       "      <td>0</td>\n",
       "      <td>galp_nation</td>\n",
       "      <td>711</td>\n",
       "      <td>privacy someone gains access phone unlock fron...</td>\n",
       "      <td>t1_d0zdthd</td>\n",
       "    </tr>\n",
       "    <tr>\n",
       "      <th>66716</th>\n",
       "      <td>26</td>\n",
       "      <td>0</td>\n",
       "      <td>galp_nation</td>\n",
       "      <td>711</td>\n",
       "      <td>mean pretty much exactly tells comics come qui...</td>\n",
       "      <td>t1_d0qbhuu</td>\n",
       "    </tr>\n",
       "    <tr>\n",
       "      <th>66717</th>\n",
       "      <td>26</td>\n",
       "      <td>0</td>\n",
       "      <td>galp_nation</td>\n",
       "      <td>711</td>\n",
       "      <td>ask guy good</td>\n",
       "      <td>t1_czymbzp</td>\n",
       "    </tr>\n",
       "    <tr>\n",
       "      <th>66718</th>\n",
       "      <td>26</td>\n",
       "      <td>0</td>\n",
       "      <td>galp_nation</td>\n",
       "      <td>711</td>\n",
       "      <td>came using lightroom know still looking help r...</td>\n",
       "      <td>t1_d1gmqco</td>\n",
       "    </tr>\n",
       "    <tr>\n",
       "      <th>66719</th>\n",
       "      <td>26</td>\n",
       "      <td>0</td>\n",
       "      <td>galp_nation</td>\n",
       "      <td>711</td>\n",
       "      <td>assume ran</td>\n",
       "      <td>t1_cwtn8tx</td>\n",
       "    </tr>\n",
       "    <tr>\n",
       "      <th>66720</th>\n",
       "      <td>26</td>\n",
       "      <td>0</td>\n",
       "      <td>galp_nation</td>\n",
       "      <td>711</td>\n",
       "      <td>definitely play yet enjoy story heavy games te...</td>\n",
       "      <td>t1_d1lowsi</td>\n",
       "    </tr>\n",
       "    <tr>\n",
       "      <th>66721</th>\n",
       "      <td>26</td>\n",
       "      <td>0</td>\n",
       "      <td>galp_nation</td>\n",
       "      <td>711</td>\n",
       "      <td>doubt ron ever turned michonne stabbed chest f...</td>\n",
       "      <td>t1_d01s1c0</td>\n",
       "    </tr>\n",
       "    <tr>\n",
       "      <th>66722</th>\n",
       "      <td>26</td>\n",
       "      <td>0</td>\n",
       "      <td>galp_nation</td>\n",
       "      <td>711</td>\n",
       "      <td>whether want believe everyone finds stupid shi...</td>\n",
       "      <td>t1_cwy9o9q</td>\n",
       "    </tr>\n",
       "    <tr>\n",
       "      <th>66723</th>\n",
       "      <td>26</td>\n",
       "      <td>0</td>\n",
       "      <td>galp_nation</td>\n",
       "      <td>711</td>\n",
       "      <td>NaN</td>\n",
       "      <td>t1_d1t0nh1</td>\n",
       "    </tr>\n",
       "    <tr>\n",
       "      <th>66724</th>\n",
       "      <td>26</td>\n",
       "      <td>0</td>\n",
       "      <td>galp_nation</td>\n",
       "      <td>711</td>\n",
       "      <td>self centered complain people responding post</td>\n",
       "      <td>t1_cwqu419</td>\n",
       "    </tr>\n",
       "    <tr>\n",
       "      <th>66725</th>\n",
       "      <td>26</td>\n",
       "      <td>0</td>\n",
       "      <td>galp_nation</td>\n",
       "      <td>711</td>\n",
       "      <td>unreal engine 4 gallery 273393 gallery</td>\n",
       "      <td>t1_d37is31</td>\n",
       "    </tr>\n",
       "    <tr>\n",
       "      <th>66726</th>\n",
       "      <td>26</td>\n",
       "      <td>0</td>\n",
       "      <td>galp_nation</td>\n",
       "      <td>711</td>\n",
       "      <td>talking group sociopaths think loved ones top ...</td>\n",
       "      <td>t1_d2f2uvc</td>\n",
       "    </tr>\n",
       "    <tr>\n",
       "      <th>66727</th>\n",
       "      <td>26</td>\n",
       "      <td>0</td>\n",
       "      <td>galp_nation</td>\n",
       "      <td>711</td>\n",
       "      <td>spend day shuffling words around make anything...</td>\n",
       "      <td>t1_cwpui99</td>\n",
       "    </tr>\n",
       "    <tr>\n",
       "      <th>66728</th>\n",
       "      <td>26</td>\n",
       "      <td>0</td>\n",
       "      <td>galp_nation</td>\n",
       "      <td>711</td>\n",
       "      <td>made video big thing</td>\n",
       "      <td>t1_cvmmjqd</td>\n",
       "    </tr>\n",
       "    <tr>\n",
       "      <th>66729</th>\n",
       "      <td>26</td>\n",
       "      <td>0</td>\n",
       "      <td>galp_nation</td>\n",
       "      <td>711</td>\n",
       "      <td>make sense american terms detour diversion lit...</td>\n",
       "      <td>t1_d02h4s1</td>\n",
       "    </tr>\n",
       "    <tr>\n",
       "      <th>66730</th>\n",
       "      <td>22</td>\n",
       "      <td>1</td>\n",
       "      <td>laadyfromthenorth</td>\n",
       "      <td>712</td>\n",
       "      <td>yes dynamite</td>\n",
       "      <td>t1_d4umlm6</td>\n",
       "    </tr>\n",
       "    <tr>\n",
       "      <th>66731</th>\n",
       "      <td>22</td>\n",
       "      <td>1</td>\n",
       "      <td>laadyfromthenorth</td>\n",
       "      <td>712</td>\n",
       "      <td>haha actually natural body shape barely squats...</td>\n",
       "      <td>t1_d4ueao8</td>\n",
       "    </tr>\n",
       "    <tr>\n",
       "      <th>66732</th>\n",
       "      <td>22</td>\n",
       "      <td>1</td>\n",
       "      <td>laadyfromthenorth</td>\n",
       "      <td>712</td>\n",
       "      <td>thanks even recognize first picture</td>\n",
       "      <td>t1_d4udzmt</td>\n",
       "    </tr>\n",
       "    <tr>\n",
       "      <th>66733</th>\n",
       "      <td>22</td>\n",
       "      <td>1</td>\n",
       "      <td>laadyfromthenorth</td>\n",
       "      <td>712</td>\n",
       "      <td>thank although really post instagram</td>\n",
       "      <td>t1_d4u904o</td>\n",
       "    </tr>\n",
       "    <tr>\n",
       "      <th>66734</th>\n",
       "      <td>22</td>\n",
       "      <td>1</td>\n",
       "      <td>laadyfromthenorth</td>\n",
       "      <td>712</td>\n",
       "      <td>thank</td>\n",
       "      <td>t1_d4uml9k</td>\n",
       "    </tr>\n",
       "    <tr>\n",
       "      <th>66735</th>\n",
       "      <td>22</td>\n",
       "      <td>1</td>\n",
       "      <td>laadyfromthenorth</td>\n",
       "      <td>712</td>\n",
       "      <td>haha europe originally</td>\n",
       "      <td>t1_d4u8i51</td>\n",
       "    </tr>\n",
       "    <tr>\n",
       "      <th>66736</th>\n",
       "      <td>22</td>\n",
       "      <td>1</td>\n",
       "      <td>laadyfromthenorth</td>\n",
       "      <td>712</td>\n",
       "      <td>thank said comment started counting calories m...</td>\n",
       "      <td>t1_d4un0oh</td>\n",
       "    </tr>\n",
       "    <tr>\n",
       "      <th>66737</th>\n",
       "      <td>22</td>\n",
       "      <td>1</td>\n",
       "      <td>kitten-play-time</td>\n",
       "      <td>713</td>\n",
       "      <td>little overkill</td>\n",
       "      <td>t1_d4asr52</td>\n",
       "    </tr>\n",
       "  </tbody>\n",
       "</table>\n",
       "<p>66738 rows × 6 columns</p>\n",
       "</div>"
      ],
      "text/plain": [
       "       Age  Sex           Username  uid  \\\n",
       "0       22    1          kristenly  101   \n",
       "1       22    1          kristenly  101   \n",
       "2       22    1          kristenly  101   \n",
       "3       22    1          kristenly  101   \n",
       "4       22    1          kristenly  101   \n",
       "5       22    1          kristenly  101   \n",
       "6       22    1          kristenly  101   \n",
       "7       22    1          kristenly  101   \n",
       "8       22    1          kristenly  101   \n",
       "9       22    1          kristenly  101   \n",
       "10      22    1          kristenly  101   \n",
       "11      22    1          kristenly  101   \n",
       "12      22    1          kristenly  101   \n",
       "13      22    1          kristenly  101   \n",
       "14      22    1          kristenly  101   \n",
       "15      22    1          kristenly  101   \n",
       "16      22    1          kristenly  101   \n",
       "17      22    1          kristenly  101   \n",
       "18      22    1          kristenly  101   \n",
       "19      22    1          kristenly  101   \n",
       "20      22    1          kristenly  101   \n",
       "21      22    1          kristenly  101   \n",
       "22      22    1          kristenly  101   \n",
       "23      22    1          kristenly  101   \n",
       "24      22    1          kristenly  101   \n",
       "25      22    1          kristenly  101   \n",
       "26      22    1          kristenly  101   \n",
       "27      22    1          kristenly  101   \n",
       "28      22    1          kristenly  101   \n",
       "29      22    1          kristenly  101   \n",
       "...    ...  ...                ...  ...   \n",
       "66708   26    0        galp_nation  711   \n",
       "66709   26    0        galp_nation  711   \n",
       "66710   26    0        galp_nation  711   \n",
       "66711   26    0        galp_nation  711   \n",
       "66712   26    0        galp_nation  711   \n",
       "66713   26    0        galp_nation  711   \n",
       "66714   26    0        galp_nation  711   \n",
       "66715   26    0        galp_nation  711   \n",
       "66716   26    0        galp_nation  711   \n",
       "66717   26    0        galp_nation  711   \n",
       "66718   26    0        galp_nation  711   \n",
       "66719   26    0        galp_nation  711   \n",
       "66720   26    0        galp_nation  711   \n",
       "66721   26    0        galp_nation  711   \n",
       "66722   26    0        galp_nation  711   \n",
       "66723   26    0        galp_nation  711   \n",
       "66724   26    0        galp_nation  711   \n",
       "66725   26    0        galp_nation  711   \n",
       "66726   26    0        galp_nation  711   \n",
       "66727   26    0        galp_nation  711   \n",
       "66728   26    0        galp_nation  711   \n",
       "66729   26    0        galp_nation  711   \n",
       "66730   22    1  laadyfromthenorth  712   \n",
       "66731   22    1  laadyfromthenorth  712   \n",
       "66732   22    1  laadyfromthenorth  712   \n",
       "66733   22    1  laadyfromthenorth  712   \n",
       "66734   22    1  laadyfromthenorth  712   \n",
       "66735   22    1  laadyfromthenorth  712   \n",
       "66736   22    1  laadyfromthenorth  712   \n",
       "66737   22    1   kitten-play-time  713   \n",
       "\n",
       "                                                 Comment  Comment_id  \n",
       "0              straight woman definitely find attractive  t1_czzdmn8  \n",
       "1      know got either work work coffee shop somethin...  t1_cq35l2q  \n",
       "2      awesome grandmother struggled weight whole lif...  t1_d1w919g  \n",
       "3                                                  pm ed  t1_cqtzv8a  \n",
       "4                        precisely feel gone insane days  t1_d1wlyfs  \n",
       "5                                       undertoes divine  t1_cxax2b9  \n",
       "6                     pm guys reddit rules witch hunting  t1_cqu3p28  \n",
       "7      know article recent 2 months prompted little b...  t1_coxwwlb  \n",
       "8      presidential joke seems pretty accurate well e...  t1_cytnblu  \n",
       "9                                             thank much  t1_d2tvypv  \n",
       "10     ugh hate type girl stop playing games could ne...  t1_cq2jikp  \n",
       "11     wow yeah thanks lot definitely contact never h...  t1_cqtzeya  \n",
       "12     op clever many people itt including awesome co...  t1_cqbh9rf  \n",
       "13                 definitely trying need recipes greens  t1_d20jqnk  \n",
       "14                                              lol dick  t1_cxcdqbw  \n",
       "15                              stopping eviction trying  t1_cqu6myo  \n",
       "16                                                   NaN  t1_cqin2lj  \n",
       "17                                               winking  t1_cpq7oz9  \n",
       "18     cuteness overload use three sit still look pho...  t1_d1w9fqo  \n",
       "19     live parents horse race overwhelmingly upset f...  t1_cqu647s  \n",
       "20     think default 2 believe revised recent recipe ...  t1_cxay98k  \n",
       "21     issue build pillows side bed bed feel big also...  t1_d1jo1mj  \n",
       "22     glad think way visit someone profile though he...  t1_d13h5dq  \n",
       "23     something still struggle terrible nc thing 5 d...  t1_d0syt56  \n",
       "24                                    laughed hard video  t1_d274580  \n",
       "25     guess barista story coworkers kind awe disgust...  t1_cxb0tbo  \n",
       "26               wow thanks look shitty outside outdated  t1_cqu8k8i  \n",
       "27        adore cleanser using several months works well  t1_d1jxpsn  \n",
       "28                                         must joy work  t1_czcr17a  \n",
       "29                     looks unamused yet still adorable  t1_d276fra  \n",
       "...                                                  ...         ...  \n",
       "66708  well attempting follow comic covers half face ...  t1_d0tmacf  \n",
       "66709   said mainly core strength entirely core strength  t1_cz80ts0  \n",
       "66710                   12 digit passcode edit 20 digits  t1_d16syyj  \n",
       "66711  lauren problem somewhat strange accent begin b...  t1_cx1hgxy  \n",
       "66712            annoying ice bucket challenge last year  t1_cxrluwv  \n",
       "66713  never bad experience shrooms acid minus slight...  t1_d0rax09  \n",
       "66714  101st airborne formed round perimeter using 50...  t1_d2qw1xh  \n",
       "66715  privacy someone gains access phone unlock fron...  t1_d0zdthd  \n",
       "66716  mean pretty much exactly tells comics come qui...  t1_d0qbhuu  \n",
       "66717                                       ask guy good  t1_czymbzp  \n",
       "66718  came using lightroom know still looking help r...  t1_d1gmqco  \n",
       "66719                                         assume ran  t1_cwtn8tx  \n",
       "66720  definitely play yet enjoy story heavy games te...  t1_d1lowsi  \n",
       "66721  doubt ron ever turned michonne stabbed chest f...  t1_d01s1c0  \n",
       "66722  whether want believe everyone finds stupid shi...  t1_cwy9o9q  \n",
       "66723                                                NaN  t1_d1t0nh1  \n",
       "66724      self centered complain people responding post  t1_cwqu419  \n",
       "66725             unreal engine 4 gallery 273393 gallery  t1_d37is31  \n",
       "66726  talking group sociopaths think loved ones top ...  t1_d2f2uvc  \n",
       "66727  spend day shuffling words around make anything...  t1_cwpui99  \n",
       "66728                               made video big thing  t1_cvmmjqd  \n",
       "66729  make sense american terms detour diversion lit...  t1_d02h4s1  \n",
       "66730                                       yes dynamite  t1_d4umlm6  \n",
       "66731  haha actually natural body shape barely squats...  t1_d4ueao8  \n",
       "66732                thanks even recognize first picture  t1_d4udzmt  \n",
       "66733               thank although really post instagram  t1_d4u904o  \n",
       "66734                                              thank  t1_d4uml9k  \n",
       "66735                             haha europe originally  t1_d4u8i51  \n",
       "66736  thank said comment started counting calories m...  t1_d4un0oh  \n",
       "66737                                    little overkill  t1_d4asr52  \n",
       "\n",
       "[66738 rows x 6 columns]"
      ]
     },
     "execution_count": 29,
     "metadata": {},
     "output_type": "execute_result"
    }
   ],
   "source": [
    "df"
   ]
  },
  {
   "cell_type": "code",
   "execution_count": 20,
   "metadata": {
    "collapsed": false,
    "slideshow": {
     "slide_type": "slide"
    }
   },
   "outputs": [
    {
     "data": {
      "text/plain": [
       "0    324\n",
       "1    289\n",
       "Name: Sex, dtype: int64"
      ]
     },
     "execution_count": 20,
     "metadata": {},
     "output_type": "execute_result"
    }
   ],
   "source": [
    "user_df['Sex'].value_counts()"
   ]
  },
  {
   "cell_type": "code",
   "execution_count": 62,
   "metadata": {
    "collapsed": false,
    "scrolled": true
   },
   "outputs": [
    {
     "name": "stdout",
     "output_type": "stream",
     "text": [
      "[('good', 2481), ('really', 2437), ('people', 2301), ('think', 2163), ('much', 2162), ('know', 1988), ('day', 1957), ('also', 1806), ('see', 1683), ('thanks', 1657), ('well', 1575), ('2', 1559), ('work', 1558), ('still', 1554), ('make', 1550), ('got', 1543), ('back', 1537), ('even', 1497), ('way', 1470), ('want', 1456)]\n",
      "\n",
      "[('really', 3698), ('much', 2970), ('think', 2857), ('good', 2724), ('know', 2709), ('thank', 2586), ('weight', 2537), ('day', 2498), ('also', 2412), ('people', 2408), ('make', 1935), ('want', 1909), ('feel', 1909), ('got', 1886), ('see', 1857), ('even', 1856), ('love', 1855), ('still', 1853), ('work', 1847), ('well', 1756)]\n",
      "\n",
      "['really', 'much', 'think', 'good', 'know', 'day', 'also', 'people', 'make', 'want', 'got', 'see', 'even', 'still', 'work', 'well']\n",
      "\n",
      "40944\n",
      "33302\n"
     ]
    }
   ],
   "source": [
    "# TEST BOX\n",
    "from collections import Counter\n",
    "#print(comments_df.head())\n",
    "m = []\n",
    "f = []\n",
    "df.dropna(inplace=True)\n",
    "#[val for sublist in list_of_lists for val in sublist]\n",
    "sents = df[df['Sex'] == 0]['Comment'].tolist()\n",
    "m.extend(sent.split() for sent in sents)\n",
    "m = [val for sublist in m for val in sublist]\n",
    "male = Counter(m)\n",
    "print(male.most_common()[:20])\n",
    "\n",
    "sents = df[df['Sex'] == 1]['Comment'].tolist()\n",
    "f.extend(sent.split() for sent in sents)\n",
    "f = [val for sublist in f for val in sublist]\n",
    "female = Counter(f)\n",
    "print()\n",
    "print(female.most_common()[:20])\n",
    "\n",
    "common1 = [word[0] for word in [f for f in female.most_common()[:20]]]\n",
    "common2 = [word[0] for word in [m for m in male.most_common()[:20]]]\n",
    "print()\n",
    "print([word for word in common1 if word in common2])\n",
    "\n",
    "print()\n",
    "print(len(male))\n",
    "print(len(female))"
   ]
  },
  {
   "cell_type": "code",
   "execution_count": 52,
   "metadata": {
    "collapsed": false,
    "slideshow": {
     "slide_type": "fragment"
    }
   },
   "outputs": [
    {
     "data": {
      "image/png": "[encoded data removed]",
      "text/plain": [
       "<matplotlib.figure.Figure at 0x7f33ba027438>"
      ]
     },
     "metadata": {},
     "output_type": "display_data"
    }
   ],
   "source": [
    "user_df['Age'].plot(kind='hist');"
   ]
  },
  {
   "cell_type": "code",
   "execution_count": 11,
   "metadata": {
    "collapsed": false
   },
   "outputs": [],
   "source": [
    "df.dropna(inplace=True)"
   ]
  },
  {
   "cell_type": "code",
   "execution_count": 12,
   "metadata": {
    "collapsed": false,
    "slideshow": {
     "slide_type": "subslide"
    }
   },
   "outputs": [
    {
     "data": {
      "image/png": "[encoded data removed]",
      "text/plain": [
       "<matplotlib.figure.Figure at 0x7fc9a98322b0>"
      ]
     },
     "metadata": {},
     "output_type": "display_data"
    }
   ],
   "source": [
    "df['Sex'].value_counts().plot(kind='bar');"
   ]
  },
  {
   "cell_type": "code",
   "execution_count": null,
   "metadata": {
    "collapsed": true
   },
   "outputs": [],
   "source": []
  },
  {
   "cell_type": "code",
   "execution_count": 53,
   "metadata": {
    "collapsed": false
   },
   "outputs": [],
   "source": [
    "X_train, X_test, y_train, y_test = \\\n",
    "                cross_validation.train_test_split(df['Comment'],\n",
    "                                                  df['Sex'],\n",
    "                                                  test_size =.3)"
   ]
  },
  {
   "cell_type": "code",
   "execution_count": 27,
   "metadata": {
    "collapsed": false,
    "scrolled": true,
    "slideshow": {
     "slide_type": "slide"
    }
   },
   "outputs": [
    {
     "name": "stdout",
     "output_type": "stream",
     "text": [
      "Fitting 3 folds for each of 96 candidates, totalling 288 fits\n"
     ]
    },
    {
     "name": "stderr",
     "output_type": "stream",
     "text": [
      "[Parallel(n_jobs=-1)]: Done  34 tasks      | elapsed:   51.6s\n",
      "[Parallel(n_jobs=-1)]: Done 184 tasks      | elapsed:  4.7min\n",
      "[Parallel(n_jobs=-1)]: Done 288 out of 288 | elapsed:  7.9min finished\n"
     ]
    },
    {
     "name": "stdout",
     "output_type": "stream",
     "text": [
      "Best score: 0.680\n",
      "Best parameters set:\n",
      "\tclf__alpha: 0.5\n",
      "\tclf__fit_prior: True\n",
      "\ttfidf__norm: 'l2'\n",
      "\ttfidf__smooth_idf: True\n",
      "\ttfidf__use_idf: True\n",
      "\tvect__max_features: 50000\n",
      "\tvect__ngram_range: (1, 4)\n"
     ]
    }
   ],
   "source": [
    "nb_pipeline = Pipeline([\n",
    "        ('vect', CountVectorizer()),\n",
    "        ('tfidf', TfidfTransformer()),\n",
    "        ('clf', MultinomialNB()),\n",
    "    ])\n",
    "\n",
    "parameters = {\n",
    "    'vect__max_features': (None, 10000, 50000),\n",
    "    'vect__ngram_range': [(1, 4)],\n",
    "    'tfidf__use_idf': [True],\n",
    "    'tfidf__smooth_idf': (True, False),\n",
    "    'tfidf__norm': ('l1', 'l2'),\n",
    "    'clf__alpha': (0.5, 0.4, 0.3, 0.2),\n",
    "    'clf__fit_prior': (True, False)\n",
    "}\n",
    "\n",
    "grid_search = GridSearchCV(nb_pipeline, parameters, n_jobs=-1, verbose=1)\n",
    "grid_search.fit(X_train, y_train)\n",
    "\n",
    "print(\"Best score: %0.3f\" % grid_search.best_score_)\n",
    "print(\"Best parameters set:\")\n",
    "best_parameters = grid_search.best_estimator_.get_params()\n",
    "for param_name in sorted(parameters.keys()):\n",
    "    print(\"\\t%s: %r\" % (param_name, best_parameters[param_name]))"
   ]
  },
  {
   "cell_type": "markdown",
   "metadata": {
    "slideshow": {
     "slide_type": "subslide"
    }
   },
   "source": [
    "### Survey says..."
   ]
  },
  {
   "cell_type": "code",
   "execution_count": 54,
   "metadata": {
    "collapsed": false,
    "slideshow": {
     "slide_type": "fragment"
    }
   },
   "outputs": [
    {
     "data": {
      "text/plain": [
       "Pipeline(steps=[('vect', CountVectorizer(analyzer='word', binary=False, decode_error='strict',\n",
       "        dtype=<class 'numpy.int64'>, encoding='utf-8', input='content',\n",
       "        lowercase=True, max_df=1.0, max_features=None, min_df=1,\n",
       "        ngram_range=(1, 4), preprocessor=None, stop_words=None,\n",
       "        strip...alse, use_idf=True)), ('clf', MultinomialNB(alpha=0.2, class_prior=[0.528, 0.472], fit_prior=True))])"
      ]
     },
     "execution_count": 54,
     "metadata": {},
     "output_type": "execute_result"
    }
   ],
   "source": [
    "nb_pipeline = Pipeline([\n",
    "        ('vect', CountVectorizer(ngram_range=(1,4))),\n",
    "        ('tfidf', TfidfTransformer(norm='l2', smooth_idf=True)),\n",
    "        ('clf', MultinomialNB(alpha=0.2, fit_prior=True, class_prior=[0.528, 0.472])),\n",
    "    ])\n",
    "\n",
    "nb_pipeline.fit(X_train, y_train)"
   ]
  },
  {
   "cell_type": "code",
   "execution_count": null,
   "metadata": {
    "collapsed": false
   },
   "outputs": [],
   "source": []
  },
  {
   "cell_type": "code",
   "execution_count": 55,
   "metadata": {
    "collapsed": false,
    "slideshow": {
     "slide_type": "slide"
    }
   },
   "outputs": [
    {
     "name": "stdout",
     "output_type": "stream",
     "text": [
      "Accuracy       0.69\n",
      "Confusion matrix, without normalization\n",
      "[[7046 3265]\n",
      " [2860 6545]]\n",
      "Normalized confusion matrix\n",
      "[[ 0.68  0.32]\n",
      " [ 0.3   0.7 ]]\n"
     ]
    },
    {
     "data": {
      "image/png": "[encoded data removed]",
      "text/plain": [
       "<matplotlib.figure.Figure at 0x7f33bab36ef0>"
      ]
     },
     "metadata": {},
     "output_type": "display_data"
    },
    {
     "data": {
      "image/png": "[encoded data removed]",
      "text/plain": [
       "<matplotlib.figure.Figure at 0x7f33c03310b8>"
      ]
     },
     "metadata": {},
     "output_type": "display_data"
    }
   ],
   "source": [
    "print(\"Accuracy {0:10.2f}\".format(nb_pipeline.score(X_test, y_test)))\n",
    "\n",
    "# Compute confusion matrix\n",
    "cm = confusion_matrix(y_test, nb_pipeline.predict(X_test))\n",
    "np.set_printoptions(precision=2)\n",
    "target_names = ['Male', 'Female']\n",
    "print('Confusion matrix, without normalization')\n",
    "print(cm)\n",
    "plt.figure()\n",
    "plot_confusion_matrix(cm, target_names)\n",
    "\n",
    "# Normalize the confusion matrix by row (i.e by the number of samples\n",
    "# in each class)\n",
    "cm_normalized = cm.astype('float') / cm.sum(axis=1)[:, np.newaxis]\n",
    "print('Normalized confusion matrix')\n",
    "print(cm_normalized)\n",
    "plt.figure()\n",
    "plot_confusion_matrix(cm_normalized, target_names, title='Normalized confusion matrix')\n",
    "\n",
    "plt.show()"
   ]
  },
  {
   "cell_type": "code",
   "execution_count": null,
   "metadata": {
    "collapsed": true
   },
   "outputs": [],
   "source": []
  },
  {
   "cell_type": "code",
   "execution_count": 56,
   "metadata": {
    "collapsed": false,
    "scrolled": true,
    "slideshow": {
     "slide_type": "slide"
    }
   },
   "outputs": [
    {
     "data": {
      "text/plain": [
       "54945                              sounds great wee scheme\n",
       "8620     previously mentioned definitely sounds swinger...\n",
       "45810                                              perfect\n",
       "2763     bet pricing ridiculous pack 20 prenatals costs...\n",
       "33684    hey awesome thing self future body look awesom...\n",
       "10950    started training around 6 month mark training ...\n",
       "52757                                            oklahomie\n",
       "51161                   cosplay flounder animal house spot\n",
       "12125               afraid people matter high school trust\n",
       "48286    difference sticky rice mushy rice though still...\n",
       "50077    honestly kind comes lot us mean lot us everywh...\n",
       "1063     originally hat pointy looked kkk cat glad came...\n",
       "34923            ry legit easter egg minimix heeeaaavvvyyy\n",
       "47102    outgoing comfortable someone yeah generally sp...\n",
       "18240    thanks know right currently giving stink eye w...\n",
       "7709     know someone every try nice realized care want...\n",
       "19769                                                  yes\n",
       "44167    problem man try stick diet much possible satur...\n",
       "26148    hit important note sating varies current scien...\n",
       "2597     thought brothers losing hair dad full head hai...\n",
       "43302    yeah favorite veggies seem little high carbs s...\n",
       "43475                                      love body thing\n",
       "10387    played ranked yet although sure could definite...\n",
       "51879                                            broke fix\n",
       "49993          usually say allergic eat break bad case fat\n",
       "55831    call casual keto count carbs avoid also dont r...\n",
       "39448                              called called wild bull\n",
       "51340                                 3 u daretelayam play\n",
       "25883                                               prison\n",
       "19383                                             yup haha\n",
       "                               ...                        \n",
       "21716                      sorry wife thing jk grat job op\n",
       "28740                                               doctor\n",
       "1351     right enough distractions moving caring three ...\n",
       "23447                       looks se london amiriteamirite\n",
       "52110    honestly probably intention behaving exhibitio...\n",
       "36595    fix mental health issues need mourn relationsh...\n",
       "60280    allah literally means god every uses arabic sp...\n",
       "33008    thank much yes something super proud thing pro...\n",
       "14852                                     thanks much best\n",
       "26188    exactly work shit hard part part easy cico sti...\n",
       "3784     nah allowed houses really nothing anyways guid...\n",
       "1667     yea haha went thailand 2007 bad tourists expec...\n",
       "1571                                        rip u song war\n",
       "5849     handled flawlessly girl got good head shoulder...\n",
       "36119                                               thanks\n",
       "2928     munch carpets yet despite staunch lgbt support...\n",
       "16027                                        yeah felt way\n",
       "40598                          unfortunately least country\n",
       "22903    worth tbh plenty product even priced high comp...\n",
       "38189    daily calorie deficit 1000 calories per day pr...\n",
       "66205                                    good luck friends\n",
       "577                                   also congratulations\n",
       "11341    bought camelbak water bottle got rock climber ...\n",
       "56181    worry asked nicely edit clarification since go...\n",
       "34355                                             cake lie\n",
       "22817                 amount suppose getting fed locks lol\n",
       "34566                                        working thank\n",
       "65770                               said friends never see\n",
       "153                                                   foot\n",
       "29142    people anti server sentiments hell subreddit h...\n",
       "Name: Comment, dtype: object"
      ]
     },
     "execution_count": 56,
     "metadata": {},
     "output_type": "execute_result"
    }
   ],
   "source": [
    "X_test[nb_pipeline.predict(X_test) != y_test]"
   ]
  },
  {
   "cell_type": "code",
   "execution_count": 57,
   "metadata": {
    "collapsed": false,
    "slideshow": {
     "slide_type": "subslide"
    }
   },
   "outputs": [
    {
     "name": "stdout",
     "output_type": "stream",
     "text": [
      "65719\n",
      "44058\n"
     ]
    }
   ],
   "source": [
    "min_str_mask = (df['Comment'].str.len() > 30)\n",
    "print(len(df))\n",
    "print(len(df.loc[min_str_mask]))"
   ]
  },
  {
   "cell_type": "code",
   "execution_count": 58,
   "metadata": {
    "collapsed": false,
    "scrolled": true,
    "slideshow": {
     "slide_type": "fragment"
    }
   },
   "outputs": [
    {
     "data": {
      "text/plain": [
       "0                straight woman definitely find attractive\n",
       "1        know got either work work coffee shop somethin...\n",
       "2        awesome grandmother struggled weight whole lif...\n",
       "4                          precisely feel gone insane days\n",
       "6                       pm guys reddit rules witch hunting\n",
       "7        know article recent 2 months prompted little b...\n",
       "8        presidential joke seems pretty accurate well e...\n",
       "10       ugh hate type girl stop playing games could ne...\n",
       "11       wow yeah thanks lot definitely contact never h...\n",
       "12       op clever many people itt including awesome co...\n",
       "13                   definitely trying need recipes greens\n",
       "18       cuteness overload use three sit still look pho...\n",
       "19       live parents horse race overwhelmingly upset f...\n",
       "20       think default 2 believe revised recent recipe ...\n",
       "21       issue build pillows side bed bed feel big also...\n",
       "22       glad think way visit someone profile though he...\n",
       "23       something still struggle terrible nc thing 5 d...\n",
       "25       guess barista story coworkers kind awe disgust...\n",
       "26                 wow thanks look shitty outside outdated\n",
       "27          adore cleanser using several months works well\n",
       "29                       looks unamused yet still adorable\n",
       "30       believe opinion many people went high school m...\n",
       "32       actually check guys find guys attractive place...\n",
       "33       thank much finished yet still lot work means much\n",
       "34       yeah house parents paying live house care poss...\n",
       "35       fact play wow makes love even eight year veter...\n",
       "36            yeah sororities fucking lame w anchor better\n",
       "37       sea lions affected changes water temperature a...\n",
       "39       middle highschool majority friends online play...\n",
       "40       thank keep getting downvoted exactly want tryi...\n",
       "                               ...                        \n",
       "66698    say quality life extend mean better health men...\n",
       "66699    name wilford james grant might mistaken compan...\n",
       "66700    walked vending machine held pocket computer pa...\n",
       "66701    missing point ok bitch downvotes wan na state ...\n",
       "66702    bad writing though eastman dying trying save m...\n",
       "66704    want think person stupid make fun reddit forge...\n",
       "66705    looks according wikipedia page seems executive...\n",
       "66707    mobile best could honestly surprised anyone fr...\n",
       "66708    well attempting follow comic covers half face ...\n",
       "66709     said mainly core strength entirely core strength\n",
       "66710                     12 digit passcode edit 20 digits\n",
       "66711    lauren problem somewhat strange accent begin b...\n",
       "66712              annoying ice bucket challenge last year\n",
       "66713    never bad experience shrooms acid minus slight...\n",
       "66714    101st airborne formed round perimeter using 50...\n",
       "66715    privacy someone gains access phone unlock fron...\n",
       "66716    mean pretty much exactly tells comics come qui...\n",
       "66718    came using lightroom know still looking help r...\n",
       "66720    definitely play yet enjoy story heavy games te...\n",
       "66721    doubt ron ever turned michonne stabbed chest f...\n",
       "66722    whether want believe everyone finds stupid shi...\n",
       "66724        self centered complain people responding post\n",
       "66725               unreal engine 4 gallery 273393 gallery\n",
       "66726    talking group sociopaths think loved ones top ...\n",
       "66727    spend day shuffling words around make anything...\n",
       "66729    make sense american terms detour diversion lit...\n",
       "66731    haha actually natural body shape barely squats...\n",
       "66732                  thanks even recognize first picture\n",
       "66733                 thank although really post instagram\n",
       "66736    thank said comment started counting calories m...\n",
       "Name: Comment, dtype: object"
      ]
     },
     "execution_count": 58,
     "metadata": {},
     "output_type": "execute_result"
    }
   ],
   "source": [
    "df.loc[min_str_mask, 'Comment']"
   ]
  },
  {
   "cell_type": "code",
   "execution_count": 59,
   "metadata": {
    "collapsed": false,
    "slideshow": {
     "slide_type": "subslide"
    }
   },
   "outputs": [],
   "source": [
    "X_train, X_test, y_train, y_test = \\\n",
    "                cross_validation.train_test_split(df.loc[min_str_mask, 'Comment'], \n",
    "                                                  df.loc[min_str_mask, 'Sex'], \n",
    "                                                  test_size =.3) #, idx1, idx2"
   ]
  },
  {
   "cell_type": "code",
   "execution_count": 60,
   "metadata": {
    "collapsed": false,
    "slideshow": {
     "slide_type": "fragment"
    }
   },
   "outputs": [
    {
     "name": "stdout",
     "output_type": "stream",
     "text": [
      "Accuracy 0.70 \n"
     ]
    }
   ],
   "source": [
    "nb_pipeline = Pipeline([\n",
    "        ('vect', CountVectorizer(ngram_range=(1,4))),\n",
    "        ('tfidf', TfidfTransformer(norm='l2', smooth_idf=True)),\n",
    "        ('clf', MultinomialNB(alpha=0.2, fit_prior=True)),\n",
    "    ])\n",
    "nb_pipeline.fit(X_train, y_train)\n",
    "print(\"Accuracy {0:.2f} \".format(nb_pipeline.score(X_test, y_test)))"
   ]
  },
  {
   "cell_type": "markdown",
   "metadata": {
    "slideshow": {
     "slide_type": "slide"
    }
   },
   "source": [
    "### Predicting Gender on a single comment"
   ]
  },
  {
   "cell_type": "code",
   "execution_count": 29,
   "metadata": {
    "collapsed": true,
    "slideshow": {
     "slide_type": "subslide"
    }
   },
   "outputs": [],
   "source": [
    "post = \"Clevelander here - Mohican State Park is about 1.5 hr drive and is decent, but Hocking Hills is a 3 hr drive and is amazing. My husband and I camped in Mohican last weekend and had a nice time, it wasn't quite as remote as we would've liked, though. If you haven't been to Hocking Hills, that is my #1 recommendation! It's the only place I've visited on this side of the country that feels like being out west. The natural rock formations are great, theres a range of hiking trails, and the waterfalls will be beautiful this time of year! There are tons of places to stay, from amazing little romantic cabins with hot tubs all the way to primitive campsites, etc.If you're looking for someplace to backpack and set up camp somewhere that isn't a campground, Allegheny National Forest in PA is about a 3 hour drive. I haven't been there yet, but a backpacking friend recommended it to us as the best place not too far from CLE that you can camp freely in the forest.\""
   ]
  },
  {
   "cell_type": "code",
   "execution_count": 30,
   "metadata": {
    "collapsed": false,
    "slideshow": {
     "slide_type": "fragment"
    }
   },
   "outputs": [
    {
     "name": "stderr",
     "output_type": "stream",
     "text": [
      "/home/protonova/anaconda2/envs/py3_nlp/lib/python3.5/site-packages/nltk/corpus/reader/wordlist.py:25: ResourceWarning: unclosed file <_io.BufferedReader name='/home/protonova/nltk_data/corpora/stopwords/english'>\n",
      "  return concat([self.open(f).read() for f in fileids])\n"
     ]
    }
   ],
   "source": [
    "post = clean_text(post, stopwords.words('english'))"
   ]
  },
  {
   "cell_type": "code",
   "execution_count": 31,
   "metadata": {
    "collapsed": false,
    "slideshow": {
     "slide_type": "fragment"
    }
   },
   "outputs": [
    {
     "name": "stdout",
     "output_type": "stream",
     "text": [
      "['clevelander mohican state park 1 5 hr drive decent hocking hills 3 hr drive amazing husband camped mohican last weekend nice time quite remote would liked though hocking hills 1 recommendation place visited side country feels like west natural rock formations great theres range hiking trails waterfalls beautiful time year tons places stay amazing little romantic cabins hot tubs way primitive campsites etc looking someplace backpack set camp somewhere campground allegheny national forest pa 3 hour drive yet backpacking friend recommended us best place far cle camp freely forest']\n"
     ]
    }
   ],
   "source": [
    "post = [post]\n",
    "print(post)"
   ]
  },
  {
   "cell_type": "code",
   "execution_count": 32,
   "metadata": {
    "collapsed": false,
    "scrolled": true,
    "slideshow": {
     "slide_type": "fragment"
    }
   },
   "outputs": [
    {
     "data": {
      "text/plain": [
       "array([[ 0.1,  0.9]])"
      ]
     },
     "execution_count": 32,
     "metadata": {},
     "output_type": "execute_result"
    }
   ],
   "source": [
    "nb_pipeline.predict_proba(post)"
   ]
  },
  {
   "cell_type": "markdown",
   "metadata": {
    "collapsed": true,
    "slideshow": {
     "slide_type": "skip"
    }
   },
   "source": [
    "----"
   ]
  },
  {
   "cell_type": "markdown",
   "metadata": {
    "slideshow": {
     "slide_type": "slide"
    }
   },
   "source": [
    "### Other models"
   ]
  },
  {
   "cell_type": "code",
   "execution_count": 25,
   "metadata": {
    "collapsed": false,
    "slideshow": {
     "slide_type": "fragment"
    }
   },
   "outputs": [],
   "source": [
    "lin_svc = LinearSVC(penalty='l2', dual=False, C=1, tol=1e-3)"
   ]
  },
  {
   "cell_type": "code",
   "execution_count": 26,
   "metadata": {
    "collapsed": false,
    "slideshow": {
     "slide_type": "fragment"
    }
   },
   "outputs": [
    {
     "data": {
      "text/plain": [
       "LinearSVC(C=1, class_weight=None, dual=False, fit_intercept=True,\n",
       "     intercept_scaling=1, loss='squared_hinge', max_iter=1000,\n",
       "     multi_class='ovr', penalty='l2', random_state=None, tol=0.001,\n",
       "     verbose=0)"
      ]
     },
     "execution_count": 26,
     "metadata": {},
     "output_type": "execute_result"
    }
   ],
   "source": [
    "lin_svc.fit(X_train, y_train)"
   ]
  },
  {
   "cell_type": "code",
   "execution_count": 27,
   "metadata": {
    "collapsed": false,
    "slideshow": {
     "slide_type": "fragment"
    }
   },
   "outputs": [
    {
     "name": "stdout",
     "output_type": "stream",
     "text": [
      "Accuracy  0.672203389831\n"
     ]
    }
   ],
   "source": [
    "print(\"Accuracy \", lin_svc.score(X_test, y_test))"
   ]
  },
  {
   "cell_type": "code",
   "execution_count": 39,
   "metadata": {
    "collapsed": false,
    "slideshow": {
     "slide_type": "fragment"
    }
   },
   "outputs": [
    {
     "data": {
      "text/plain": [
       "SGDClassifier(alpha=0.0001, average=False, class_weight=None, epsilon=0.1,\n",
       "       eta0=0.0, fit_intercept=True, l1_ratio=0.15,\n",
       "       learning_rate='optimal', loss='log', n_iter=40, n_jobs=1,\n",
       "       penalty='l2', power_t=0.5, random_state=None, shuffle=True,\n",
       "       verbose=0, warm_start=False)"
      ]
     },
     "execution_count": 39,
     "metadata": {},
     "output_type": "execute_result"
    }
   ],
   "source": [
    "sgd.fit(X_train, y_train)"
   ]
  },
  {
   "cell_type": "code",
   "execution_count": 40,
   "metadata": {
    "collapsed": false,
    "scrolled": true,
    "slideshow": {
     "slide_type": "fragment"
    }
   },
   "outputs": [
    {
     "name": "stdout",
     "output_type": "stream",
     "text": [
      "Accuracy  0.681581920904\n"
     ]
    }
   ],
   "source": [
    "print(\"Accuracy \", sgd.score(X_test, y_test))"
   ]
  },
  {
   "cell_type": "code",
   "execution_count": 31,
   "metadata": {
    "collapsed": false,
    "slideshow": {
     "slide_type": "subslide"
    }
   },
   "outputs": [],
   "source": [
    "param_grid = [\n",
    "  {'penalty': ['l2', 'l1', 'elasticnet'], \n",
    "   'loss': ['hinge', 'log', 'modified_huber', 'squared_hinge'], \n",
    "   'n_iter': [20,30,40,50,60]}\n",
    " ]\n",
    "\n",
    "gridcv = GridSearchCV(SGDClassifier(), param_grid, n_jobs=4)\n"
   ]
  },
  {
   "cell_type": "code",
   "execution_count": 32,
   "metadata": {
    "collapsed": false,
    "slideshow": {
     "slide_type": "fragment"
    }
   },
   "outputs": [
    {
     "data": {
      "text/plain": [
       "GridSearchCV(cv=None, error_score='raise',\n",
       "       estimator=SGDClassifier(alpha=0.0001, average=False, class_weight=None, epsilon=0.1,\n",
       "       eta0=0.0, fit_intercept=True, l1_ratio=0.15,\n",
       "       learning_rate='optimal', loss='hinge', n_iter=5, n_jobs=1,\n",
       "       penalty='l2', power_t=0.5, random_state=None, shuffle=True,\n",
       "       verbose=0, warm_start=False),\n",
       "       fit_params={}, iid=True, n_jobs=4,\n",
       "       param_grid=[{'n_iter': [20, 30, 40, 50, 60], 'loss': ['hinge', 'log', 'modified_huber', 'squared_hinge'], 'penalty': ['l2', 'l1', 'elasticnet']}],\n",
       "       pre_dispatch='2*n_jobs', refit=True, scoring=None, verbose=0)"
      ]
     },
     "execution_count": 32,
     "metadata": {},
     "output_type": "execute_result"
    }
   ],
   "source": [
    "gridcv.fit(X_train, y_train)"
   ]
  },
  {
   "cell_type": "code",
   "execution_count": 33,
   "metadata": {
    "collapsed": false,
    "slideshow": {
     "slide_type": "fragment"
    }
   },
   "outputs": [
    {
     "name": "stdout",
     "output_type": "stream",
     "text": [
      "\tloss: 'log'\n",
      "\tn_iter: 40\n",
      "\tpenalty: 'l2'\n"
     ]
    }
   ],
   "source": [
    "best_parameters = gridcv.best_estimator_.get_params()\n",
    "for param_name in sorted(param_grid[0].keys()):\n",
    "    print(\"\\t%s: %r\" % (param_name, best_parameters[param_name]))"
   ]
  },
  {
   "cell_type": "code",
   "execution_count": 38,
   "metadata": {
    "collapsed": true,
    "slideshow": {
     "slide_type": "subslide"
    }
   },
   "outputs": [],
   "source": [
    "sgd = SGDClassifier(penalty='l2', loss='log', n_iter=40)"
   ]
  },
  {
   "cell_type": "code",
   "execution_count": 37,
   "metadata": {
    "collapsed": false,
    "slideshow": {
     "slide_type": "fragment"
    }
   },
   "outputs": [
    {
     "data": {
      "text/plain": [
       "0.68214689265536721"
      ]
     },
     "execution_count": 37,
     "metadata": {},
     "output_type": "execute_result"
    }
   ],
   "source": [
    "gridcv.score(X_test, y_test)"
   ]
  },
  {
   "cell_type": "markdown",
   "metadata": {
    "collapsed": true
   },
   "source": [
    "----"
   ]
  },
  {
   "cell_type": "code",
   "execution_count": 36,
   "metadata": {
    "collapsed": false,
    "slideshow": {
     "slide_type": "slide"
    }
   },
   "outputs": [],
   "source": [
    "from main import Redditor\n",
    "import re\n",
    "import numpy as np\n",
    "from collections import Counter\n",
    "from nltk.corpus import stopwords\n",
    "import praw\n",
    "\n",
    "class GenderClassifier:\n",
    "    '''Classifier Redditor Based on Comments. Works with any estimator\n",
    "    that impliments .fit() and .predict()'''\n",
    "    \n",
    "    def __init__(self, estimator, stopwords=[], pipeline=False):\n",
    "        user_agent     = 'NLP Webscrapper 0.4'\n",
    "        self.pipeline  = pipeline\n",
    "        self.estimator = estimator\n",
    "        self.stopwords = stopwords\n",
    "        self.gender = {0: 'Male', 1: 'Female'}\n",
    "        self.reddit = praw.Reddit(user_agent=user_agent)\n",
    "    \n",
    "    def fit(self, X, y):\n",
    "        if self.pipline:\n",
    "            pipeline = Pipeline([('vect', CountVectorizer()),\n",
    "                                 ('tfidf', TfidfTransformer()),\n",
    "                                 ('clf', self.estimator)])\n",
    "            self.estimator = pipeline\n",
    "        self.pipeline.fit(X, y)\n",
    "\n",
    "    def _clean_text(self, text, pattern=None):\n",
    "        if not pattern:\n",
    "            allowable = (':', ')', '(')           # Punctuation marks used in emoticons\n",
    "            punct     = '[' + ''.join([ch for ch in punctuation if ch not in allowable]) + ']'\n",
    "            emoticon_pat = '(?<!\\:)\\)|(?<!\\:)\\('  # Don't pick up common emoticons\n",
    "            special_pat  = '[\\n]'\n",
    "            markup_link  = '\\[\\w+\\]|\\(http.*\\)'   # Markup syntax for hyperlinks\n",
    "            hyperlinks   = '(https?:\\/\\/)?([\\da-z\\.-]+)\\.([a-z\\.]{2,6})([\\/\\w \\.-]*)*\\/?'\n",
    "            pattern = \"|\".join((emoticon_pat, hyperlinks, markup_link, special_pat, punct))\n",
    "\n",
    "        text = re.sub(pattern, ' ', text)\n",
    "        text = TextBlob(text).words\n",
    "        text = ' '.join(word for word in text.lower() if word not in self.stopwords)\n",
    "        return text.strip()\n",
    "    \n",
    "    def get_comments(self, username):\n",
    "        '''Not enought time to impliment'''\n",
    "        pass\n",
    "    \n",
    "    def predict(self, username):\n",
    "        redditor = self.reddit.get_redditor(username)\n",
    "        comments = [self._clean_text(comment.body.strip()) for comment in redditor.get_comments(limit=10)]\n",
    "        predictions = np.asarray([self.estimator.predict([comment]) for comment in comments])\n",
    "        return self.gender[Counter(predictions.ravel()).most_common(1)[0][0]]\n",
    "    \n",
    "    def online_score(self, num_redditors=20):\n",
    "        '''Not enought time to impliment'''\n",
    "        pass "
   ]
  },
  {
   "cell_type": "code",
   "execution_count": 37,
   "metadata": {
    "collapsed": false
   },
   "outputs": [
    {
     "name": "stdout",
     "output_type": "stream",
     "text": [
      "Version 3.4.0 of praw is outdated. Version 3.5.0 was released 7 days ago.\n"
     ]
    },
    {
     "name": "stderr",
     "output_type": "stream",
     "text": [
      "/home/protonova/anaconda2/envs/py3_nlp/lib/python3.5/site-packages/nltk/corpus/reader/wordlist.py:25: ResourceWarning: unclosed file <_io.BufferedReader name='/home/protonova/nltk_data/corpora/stopwords/english'>\n",
      "  return concat([self.open(f).read() for f in fileids])\n"
     ]
    }
   ],
   "source": [
    "stopwords_set = set(stopwords.words('english'))\n",
    "stopwords_set |= set(['http', 'www'])\n",
    "\n",
    "gc = GenderClassifier(nb_pipeline, stopwords=stopwords_set)"
   ]
  },
  {
   "cell_type": "code",
   "execution_count": 42,
   "metadata": {
    "collapsed": false
   },
   "outputs": [
    {
     "data": {
      "text/plain": [
       "'Female'"
      ]
     },
     "execution_count": 42,
     "metadata": {},
     "output_type": "execute_result"
    }
   ],
   "source": [
    "gc.predict('Ktwann92')"
   ]
  },
  {
   "cell_type": "code",
   "execution_count": null,
   "metadata": {
    "collapsed": true
   },
   "outputs": [],
   "source": []
  },
  {
   "cell_type": "code",
   "execution_count": null,
   "metadata": {
    "collapsed": true
   },
   "outputs": [],
   "source": []
  }
 ],
 "metadata": {
  "celltoolbar": "Slideshow",
  "kernelspec": {
   "display_name": "Python 2",
   "language": "python",
   "name": "python2"
  },
  "language_info": {
   "codemirror_mode": {
    "name": "ipython",
    "version": 2
   },
   "file_extension": ".py",
   "mimetype": "text/x-python",
   "name": "python",
   "nbconvert_exporter": "python",
   "pygments_lexer": "ipython2",
   "version": "2.7.12"
  }
 },
 "nbformat": 4,
 "nbformat_minor": 0
}
